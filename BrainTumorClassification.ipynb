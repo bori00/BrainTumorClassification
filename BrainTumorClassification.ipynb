{
  "nbformat": 4,
  "nbformat_minor": 0,
  "metadata": {
    "colab": {
      "name": "BrainTumorClassification.ipynb",
      "provenance": [],
      "collapsed_sections": [],
      "authorship_tag": "ABX9TyOFq3wHE+NYdTmVN92+nJs5",
      "include_colab_link": true
    },
    "kernelspec": {
      "name": "python3",
      "display_name": "Python 3"
    },
    "language_info": {
      "name": "python"
    }
  },
  "cells": [
    {
      "cell_type": "markdown",
      "metadata": {
        "id": "view-in-github",
        "colab_type": "text"
      },
      "source": [
        "<a href=\"https://colab.research.google.com/github/bori00/BrainTumorClassification/blob/bori_dev/BrainTumorClassification.ipynb\" target=\"_parent\"><img src=\"https://colab.research.google.com/assets/colab-badge.svg\" alt=\"Open In Colab\"/></a>"
      ]
    },
    {
      "cell_type": "markdown",
      "source": [
        "# Brain Tumor Classification"
      ],
      "metadata": {
        "id": "82ROzTXrSwRt"
      }
    },
    {
      "cell_type": "code",
      "execution_count": 1,
      "metadata": {
        "id": "EUOmO5M1Sqb8"
      },
      "outputs": [],
      "source": [
        "# Imports\n",
        "import os, warnings\n",
        "import matplotlib.pyplot as plt\n",
        "from matplotlib import gridspec\n",
        "\n",
        "import numpy as np\n",
        "import tensorflow as tf\n",
        "from tensorflow.keras.preprocessing import image_dataset_from_directory\n",
        "\n",
        "import urllib\n",
        "from urllib import request\n",
        "\n",
        "import time"
      ]
    },
    {
      "cell_type": "code",
      "source": [
        "# Reproducability\n",
        "def set_seed(seed=31415):\n",
        "    np.random.seed(seed)\n",
        "    tf.random.set_seed(seed)\n",
        "    os.environ['PYTHONHASHSEED'] = str(seed)\n",
        "    os.environ['TF_DETERMINISTIC_OPS'] = '1'\n",
        "set_seed()"
      ],
      "metadata": {
        "id": "xud2UaCtTtu-"
      },
      "execution_count": 3,
      "outputs": []
    },
    {
      "cell_type": "code",
      "source": [
        "tumor_types = ['glioma_tumor', 'meningioma_tumor']"
      ],
      "metadata": {
        "id": "cwnf0Dx2WXW8"
      },
      "execution_count": 4,
      "outputs": []
    },
    {
      "cell_type": "code",
      "source": [
        "folder_ids = {\n",
        "    \"train\": '1HK5JxUCzDAI812XOHEYZPFvVHuKGdxDg',\n",
        "    \"test\": '1b3iKJeldP-0zTy6GL2wvytHhhI6WEe9_'\n",
        "}"
      ],
      "metadata": {
        "id": "YBoPCtnpVsn-"
      },
      "execution_count": 5,
      "outputs": []
    },
    {
      "cell_type": "code",
      "source": [
        "# importing zip files from fgoogle drive\n",
        "\n",
        "folder_ids = {\n",
        "    \"train\": '1HK5JxUCzDAI812XOHEYZPFvVHuKGdxDg',\n",
        "    \"test\": '1b3iKJeldP-0zTy6GL2wvytHhhI6WEe9_'\n",
        "}\n",
        "\n",
        "for folder_type in ['train', 'test']:\n",
        "    # drive_folder_url = \"https://drive.google.com/u/2/uc?id={}&export=download\".format(folder_ids[folder_type])\n",
        "    # drive_folder_url = \"https://docs.google.com/uc?export=download&id={}&confirm=t\".format(folder_ids[folder_type])\n",
        "\n",
        "    drive_folder_url = \"https://doc-10-bc-docs.googleusercontent.com/docs/securesc/qtq9pa03792qmock0mr06urnpi13hppk/avcfr921na7j8uq8cn35ckfbukcqrut5/1651741650000/18367490022258197177/18367490022258197177/1HK5JxUCzDAI812XOHEYZPFvVHuKGdxDg?e=download&ax=ACxEAsb5t7hsgc2CWxSqb_WH8JBIa2Tey2aBL6UFHyUiK19Z7aWDq3UenNHSJaH-_nGpOxRoN2J5hD52kKcoia8DmMdq7lyIh_YrvFnnTu3q78XrtzaM4HYQd1OUSZMzRXAjV7ED0bGuTUEbw1v7OVt3uGkE72oTxA4g_qsz133n5PJ4UUKv99TiiqbGsnafBAoFBvR5eQSwelMkcaKVYEzG_iG5PnOviFwrx41dGAGpAOjSl6i9dP6nwnv3LtQT8cBsyycychYCy3m8OyerCzsErMVnFqiXESMNmwBmPu5cI9sMpZE_6sFRvyWCB4Fq1EAXRswiJ9EnLQch5Np8dhtTyH2-sKX_hsdaaCH_FYLj517f0kQzNn81TeVYKM7GO9GirezM-5OipmW-yTKfcHepS_YJA6XQqXIcYIXMkKWcxStEzdpl4c8hSXvdoCHPW9RGRBdYfAXoznz3FZKiMOXbIn7CIcK-1MurqwVQwvITnW9rkrEWproCGO_sJPo2x8OCN4gpmLZRfSc9a_qVPDossincUD61TBpQPnYo5Ct5Gl6DzplKWH481sJxEj3TizZWoHYz1DCArMkykyfiz7atA6rDM6AZLctKxVa2NEDbgu8J0fZSevgdMk7K_vk7dXrmTKUkPVMUAmUZ23-IIqb7MSPqMqWxyKaz9Dmfg7i4oNlvhfTcH48bbDdygPYDUCM_7uB2KwV-FRBsf81cElWuOPCd5XE0T4hlSRCHgbIMlW2wQHRf1bo&authuser=0&nonce=cv3iejgcj27mq&user=18367490022258197177&hash=0aeeibv4b7qvgqks2ipgboqt27lmpp3c\"\n",
        "    print(drive_folder_url)\n",
        "\n",
        "    file_name = '{}.zip'.format(folder_type)\n",
        "\n",
        "    urllib.request.urlretrieve(drive_folder_url, file_name)\n",
        "\n",
        "    # req =  request.Request(drive_folder_url, method='POST')\n",
        "    # resp = request.urlopen(req)\n",
        "\n",
        "    print('Download completed!', folder_type)\n",
        "\n",
        "    time.sleep(3)"
      ],
      "metadata": {
        "colab": {
          "base_uri": "https://localhost:8080/"
        },
        "id": "YUB1jd29Yh4L",
        "outputId": "6848b484-f3ff-421b-b47b-03d2419ac132"
      },
      "execution_count": 18,
      "outputs": [
        {
          "output_type": "stream",
          "name": "stdout",
          "text": [
            "https://doc-10-bc-docs.googleusercontent.com/docs/securesc/qtq9pa03792qmock0mr06urnpi13hppk/avcfr921na7j8uq8cn35ckfbukcqrut5/1651741650000/18367490022258197177/18367490022258197177/1HK5JxUCzDAI812XOHEYZPFvVHuKGdxDg?e=download&ax=ACxEAsb5t7hsgc2CWxSqb_WH8JBIa2Tey2aBL6UFHyUiK19Z7aWDq3UenNHSJaH-_nGpOxRoN2J5hD52kKcoia8DmMdq7lyIh_YrvFnnTu3q78XrtzaM4HYQd1OUSZMzRXAjV7ED0bGuTUEbw1v7OVt3uGkE72oTxA4g_qsz133n5PJ4UUKv99TiiqbGsnafBAoFBvR5eQSwelMkcaKVYEzG_iG5PnOviFwrx41dGAGpAOjSl6i9dP6nwnv3LtQT8cBsyycychYCy3m8OyerCzsErMVnFqiXESMNmwBmPu5cI9sMpZE_6sFRvyWCB4Fq1EAXRswiJ9EnLQch5Np8dhtTyH2-sKX_hsdaaCH_FYLj517f0kQzNn81TeVYKM7GO9GirezM-5OipmW-yTKfcHepS_YJA6XQqXIcYIXMkKWcxStEzdpl4c8hSXvdoCHPW9RGRBdYfAXoznz3FZKiMOXbIn7CIcK-1MurqwVQwvITnW9rkrEWproCGO_sJPo2x8OCN4gpmLZRfSc9a_qVPDossincUD61TBpQPnYo5Ct5Gl6DzplKWH481sJxEj3TizZWoHYz1DCArMkykyfiz7atA6rDM6AZLctKxVa2NEDbgu8J0fZSevgdMk7K_vk7dXrmTKUkPVMUAmUZ23-IIqb7MSPqMqWxyKaz9Dmfg7i4oNlvhfTcH48bbDdygPYDUCM_7uB2KwV-FRBsf81cElWuOPCd5XE0T4hlSRCHgbIMlW2wQHRf1bo&authuser=0&nonce=cv3iejgcj27mq&user=18367490022258197177&hash=0aeeibv4b7qvgqks2ipgboqt27lmpp3c\n",
            "Download completed! train\n",
            "https://doc-10-bc-docs.googleusercontent.com/docs/securesc/qtq9pa03792qmock0mr06urnpi13hppk/avcfr921na7j8uq8cn35ckfbukcqrut5/1651741650000/18367490022258197177/18367490022258197177/1HK5JxUCzDAI812XOHEYZPFvVHuKGdxDg?e=download&ax=ACxEAsb5t7hsgc2CWxSqb_WH8JBIa2Tey2aBL6UFHyUiK19Z7aWDq3UenNHSJaH-_nGpOxRoN2J5hD52kKcoia8DmMdq7lyIh_YrvFnnTu3q78XrtzaM4HYQd1OUSZMzRXAjV7ED0bGuTUEbw1v7OVt3uGkE72oTxA4g_qsz133n5PJ4UUKv99TiiqbGsnafBAoFBvR5eQSwelMkcaKVYEzG_iG5PnOviFwrx41dGAGpAOjSl6i9dP6nwnv3LtQT8cBsyycychYCy3m8OyerCzsErMVnFqiXESMNmwBmPu5cI9sMpZE_6sFRvyWCB4Fq1EAXRswiJ9EnLQch5Np8dhtTyH2-sKX_hsdaaCH_FYLj517f0kQzNn81TeVYKM7GO9GirezM-5OipmW-yTKfcHepS_YJA6XQqXIcYIXMkKWcxStEzdpl4c8hSXvdoCHPW9RGRBdYfAXoznz3FZKiMOXbIn7CIcK-1MurqwVQwvITnW9rkrEWproCGO_sJPo2x8OCN4gpmLZRfSc9a_qVPDossincUD61TBpQPnYo5Ct5Gl6DzplKWH481sJxEj3TizZWoHYz1DCArMkykyfiz7atA6rDM6AZLctKxVa2NEDbgu8J0fZSevgdMk7K_vk7dXrmTKUkPVMUAmUZ23-IIqb7MSPqMqWxyKaz9Dmfg7i4oNlvhfTcH48bbDdygPYDUCM_7uB2KwV-FRBsf81cElWuOPCd5XE0T4hlSRCHgbIMlW2wQHRf1bo&authuser=0&nonce=cv3iejgcj27mq&user=18367490022258197177&hash=0aeeibv4b7qvgqks2ipgboqt27lmpp3c\n",
            "Download completed! test\n"
          ]
        }
      ]
    },
    {
      "cell_type": "code",
      "source": [
        "file_id = '1b3iKJeldP-0zTy6GL2wvytHhhI6WEe9_'\n",
        "request = drive_service.files().get_media(fileId=file_id)\n",
        "fh = io.BytesIO()\n",
        "downloader = MediaIoBaseDownload(fh, request)\n",
        "done = False\n",
        "while done is False:\n",
        "    status, done = downloader.next_chunk()\n",
        "    print(\"Download {}\".format(int(status.progress() * 100)))"
      ],
      "metadata": {
        "colab": {
          "base_uri": "https://localhost:8080/",
          "height": 235
        },
        "id": "tZjiiwMFapTF",
        "outputId": "06350eb8-a987-4b31-b7f9-cdec25c897e9"
      },
      "execution_count": 9,
      "outputs": [
        {
          "output_type": "error",
          "ename": "NameError",
          "evalue": "ignored",
          "traceback": [
            "\u001b[0;31m---------------------------------------------------------------------------\u001b[0m",
            "\u001b[0;31mNameError\u001b[0m                                 Traceback (most recent call last)",
            "\u001b[0;32m<ipython-input-9-d9d235756c95>\u001b[0m in \u001b[0;36m<module>\u001b[0;34m()\u001b[0m\n\u001b[1;32m      1\u001b[0m \u001b[0mfile_id\u001b[0m \u001b[0;34m=\u001b[0m \u001b[0;34m'1b3iKJeldP-0zTy6GL2wvytHhhI6WEe9_'\u001b[0m\u001b[0;34m\u001b[0m\u001b[0;34m\u001b[0m\u001b[0m\n\u001b[0;32m----> 2\u001b[0;31m \u001b[0mrequest\u001b[0m \u001b[0;34m=\u001b[0m \u001b[0mdrive_service\u001b[0m\u001b[0;34m.\u001b[0m\u001b[0mfiles\u001b[0m\u001b[0;34m(\u001b[0m\u001b[0;34m)\u001b[0m\u001b[0;34m.\u001b[0m\u001b[0mget_media\u001b[0m\u001b[0;34m(\u001b[0m\u001b[0mfileId\u001b[0m\u001b[0;34m=\u001b[0m\u001b[0mfile_id\u001b[0m\u001b[0;34m)\u001b[0m\u001b[0;34m\u001b[0m\u001b[0;34m\u001b[0m\u001b[0m\n\u001b[0m\u001b[1;32m      3\u001b[0m \u001b[0mfh\u001b[0m \u001b[0;34m=\u001b[0m \u001b[0mio\u001b[0m\u001b[0;34m.\u001b[0m\u001b[0mBytesIO\u001b[0m\u001b[0;34m(\u001b[0m\u001b[0;34m)\u001b[0m\u001b[0;34m\u001b[0m\u001b[0;34m\u001b[0m\u001b[0m\n\u001b[1;32m      4\u001b[0m \u001b[0mdownloader\u001b[0m \u001b[0;34m=\u001b[0m \u001b[0mMediaIoBaseDownload\u001b[0m\u001b[0;34m(\u001b[0m\u001b[0mfh\u001b[0m\u001b[0;34m,\u001b[0m \u001b[0mrequest\u001b[0m\u001b[0;34m)\u001b[0m\u001b[0;34m\u001b[0m\u001b[0;34m\u001b[0m\u001b[0m\n\u001b[1;32m      5\u001b[0m \u001b[0mdone\u001b[0m \u001b[0;34m=\u001b[0m \u001b[0;32mFalse\u001b[0m\u001b[0;34m\u001b[0m\u001b[0;34m\u001b[0m\u001b[0m\n",
            "\u001b[0;31mNameError\u001b[0m: name 'drive_service' is not defined"
          ]
        }
      ]
    },
    {
      "cell_type": "code",
      "source": [
        "!unzip 'Training' -d 'Training'"
      ],
      "metadata": {
        "colab": {
          "base_uri": "https://localhost:8080/"
        },
        "id": "qLobT8QJapb-",
        "outputId": "95561760-3b23-4d09-88e8-0e59e73e64ac"
      },
      "execution_count": null,
      "outputs": [
        {
          "output_type": "stream",
          "name": "stdout",
          "text": [
            "Archive:  Training\n",
            "checkdir:  cannot create extraction directory: Training\n",
            "           File exists\n"
          ]
        }
      ]
    },
    {
      "cell_type": "code",
      "source": [
        "import zipfile\n",
        "zip_ref = zipfile.ZipFile(\"train.zip\", 'r')\n",
        "zip_ref.extractall(\"/tmp\")\n",
        "zip_ref.close()"
      ],
      "metadata": {
        "id": "ED_hzP0Ea-K6",
        "colab": {
          "base_uri": "https://localhost:8080/",
          "height": 363
        },
        "outputId": "ca813b6d-c022-4155-caaf-80401defc70b"
      },
      "execution_count": 17,
      "outputs": [
        {
          "output_type": "error",
          "ename": "BadZipFile",
          "evalue": "ignored",
          "traceback": [
            "\u001b[0;31m---------------------------------------------------------------------------\u001b[0m",
            "\u001b[0;31mBadZipFile\u001b[0m                                Traceback (most recent call last)",
            "\u001b[0;32m<ipython-input-17-bfa5347d38eb>\u001b[0m in \u001b[0;36m<module>\u001b[0;34m()\u001b[0m\n\u001b[1;32m      1\u001b[0m \u001b[0;32mimport\u001b[0m \u001b[0mzipfile\u001b[0m\u001b[0;34m\u001b[0m\u001b[0;34m\u001b[0m\u001b[0m\n\u001b[0;32m----> 2\u001b[0;31m \u001b[0mzip_ref\u001b[0m \u001b[0;34m=\u001b[0m \u001b[0mzipfile\u001b[0m\u001b[0;34m.\u001b[0m\u001b[0mZipFile\u001b[0m\u001b[0;34m(\u001b[0m\u001b[0;34m\"train.zip\"\u001b[0m\u001b[0;34m,\u001b[0m \u001b[0;34m'r'\u001b[0m\u001b[0;34m)\u001b[0m\u001b[0;34m\u001b[0m\u001b[0;34m\u001b[0m\u001b[0m\n\u001b[0m\u001b[1;32m      3\u001b[0m \u001b[0mzip_ref\u001b[0m\u001b[0;34m.\u001b[0m\u001b[0mextractall\u001b[0m\u001b[0;34m(\u001b[0m\u001b[0;34m\"/tmp\"\u001b[0m\u001b[0;34m)\u001b[0m\u001b[0;34m\u001b[0m\u001b[0;34m\u001b[0m\u001b[0m\n\u001b[1;32m      4\u001b[0m \u001b[0mzip_ref\u001b[0m\u001b[0;34m.\u001b[0m\u001b[0mclose\u001b[0m\u001b[0;34m(\u001b[0m\u001b[0;34m)\u001b[0m\u001b[0;34m\u001b[0m\u001b[0;34m\u001b[0m\u001b[0m\n",
            "\u001b[0;32m/usr/lib/python3.7/zipfile.py\u001b[0m in \u001b[0;36m__init__\u001b[0;34m(self, file, mode, compression, allowZip64, compresslevel)\u001b[0m\n\u001b[1;32m   1256\u001b[0m         \u001b[0;32mtry\u001b[0m\u001b[0;34m:\u001b[0m\u001b[0;34m\u001b[0m\u001b[0;34m\u001b[0m\u001b[0m\n\u001b[1;32m   1257\u001b[0m             \u001b[0;32mif\u001b[0m \u001b[0mmode\u001b[0m \u001b[0;34m==\u001b[0m \u001b[0;34m'r'\u001b[0m\u001b[0;34m:\u001b[0m\u001b[0;34m\u001b[0m\u001b[0;34m\u001b[0m\u001b[0m\n\u001b[0;32m-> 1258\u001b[0;31m                 \u001b[0mself\u001b[0m\u001b[0;34m.\u001b[0m\u001b[0m_RealGetContents\u001b[0m\u001b[0;34m(\u001b[0m\u001b[0;34m)\u001b[0m\u001b[0;34m\u001b[0m\u001b[0;34m\u001b[0m\u001b[0m\n\u001b[0m\u001b[1;32m   1259\u001b[0m             \u001b[0;32melif\u001b[0m \u001b[0mmode\u001b[0m \u001b[0;32min\u001b[0m \u001b[0;34m(\u001b[0m\u001b[0;34m'w'\u001b[0m\u001b[0;34m,\u001b[0m \u001b[0;34m'x'\u001b[0m\u001b[0;34m)\u001b[0m\u001b[0;34m:\u001b[0m\u001b[0;34m\u001b[0m\u001b[0;34m\u001b[0m\u001b[0m\n\u001b[1;32m   1260\u001b[0m                 \u001b[0;31m# set the modified flag so central directory gets written\u001b[0m\u001b[0;34m\u001b[0m\u001b[0;34m\u001b[0m\u001b[0;34m\u001b[0m\u001b[0m\n",
            "\u001b[0;32m/usr/lib/python3.7/zipfile.py\u001b[0m in \u001b[0;36m_RealGetContents\u001b[0;34m(self)\u001b[0m\n\u001b[1;32m   1323\u001b[0m             \u001b[0;32mraise\u001b[0m \u001b[0mBadZipFile\u001b[0m\u001b[0;34m(\u001b[0m\u001b[0;34m\"File is not a zip file\"\u001b[0m\u001b[0;34m)\u001b[0m\u001b[0;34m\u001b[0m\u001b[0;34m\u001b[0m\u001b[0m\n\u001b[1;32m   1324\u001b[0m         \u001b[0;32mif\u001b[0m \u001b[0;32mnot\u001b[0m \u001b[0mendrec\u001b[0m\u001b[0;34m:\u001b[0m\u001b[0;34m\u001b[0m\u001b[0;34m\u001b[0m\u001b[0m\n\u001b[0;32m-> 1325\u001b[0;31m             \u001b[0;32mraise\u001b[0m \u001b[0mBadZipFile\u001b[0m\u001b[0;34m(\u001b[0m\u001b[0;34m\"File is not a zip file\"\u001b[0m\u001b[0;34m)\u001b[0m\u001b[0;34m\u001b[0m\u001b[0;34m\u001b[0m\u001b[0m\n\u001b[0m\u001b[1;32m   1326\u001b[0m         \u001b[0;32mif\u001b[0m \u001b[0mself\u001b[0m\u001b[0;34m.\u001b[0m\u001b[0mdebug\u001b[0m \u001b[0;34m>\u001b[0m \u001b[0;36m1\u001b[0m\u001b[0;34m:\u001b[0m\u001b[0;34m\u001b[0m\u001b[0;34m\u001b[0m\u001b[0m\n\u001b[1;32m   1327\u001b[0m             \u001b[0mprint\u001b[0m\u001b[0;34m(\u001b[0m\u001b[0mendrec\u001b[0m\u001b[0;34m)\u001b[0m\u001b[0;34m\u001b[0m\u001b[0;34m\u001b[0m\u001b[0m\n",
            "\u001b[0;31mBadZipFile\u001b[0m: File is not a zip file"
          ]
        }
      ]
    }
  ]
}